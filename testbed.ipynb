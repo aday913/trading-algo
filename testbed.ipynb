{
 "cells": [
  {
   "cell_type": "code",
   "execution_count": 9,
   "metadata": {},
   "outputs": [],
   "source": [
    "import os\n",
    "import pandas as pd\n",
    "\n",
    "from dotenv import load_dotenv\n",
    "import alpaca_trade_api as tradeapi\n",
    "from alpaca_trade_api.rest import TimeFrame\n",
    "\n",
    "\n",
    "load_dotenv()\n",
    "\n",
    "APCA_API_SECRET_KEY = os.getenv('APCA_API_SECRET_KEY')\n",
    "APCA_API_KEY_ID = os.getenv('APCA_API_KEY_ID')\n",
    "APCA_API_BASE_URL = os.getenv('APCA_API_BASE_URL')\n",
    "\n",
    "api = tradeapi.REST()"
   ]
  },
  {
   "cell_type": "code",
   "execution_count": 23,
   "metadata": {},
   "outputs": [
    {
     "name": "stdout",
     "output_type": "stream",
     "text": [
      "254\n",
      "Bar({   'c': 60.59,\n",
      "    'h': 61.37,\n",
      "    'l': 59.7,\n",
      "    'n': 101493,\n",
      "    'o': 59.71,\n",
      "    't': '2021-05-26T04:00:00Z',\n",
      "    'v': 13851985,\n",
      "    'vw': 60.648972})\n",
      "Bar({   'c': 14.81,\n",
      "    'h': 14.94,\n",
      "    'l': 13.63,\n",
      "    'n': 299656,\n",
      "    'o': 13.78,\n",
      "    't': '2022-05-26T04:00:00Z',\n",
      "    'v': 80354421,\n",
      "    'vw': 14.496031})\n"
     ]
    }
   ],
   "source": [
    "# api.get_bars(\"AAPL\", TimeFrame.Hour, \"2021-06-08\", \"2021-06-08\", adjustment='raw')\n",
    "\n",
    "bars = api.get_bars('SNAP', TimeFrame.Day,\n",
    "                    pd.Timestamp('2021-05-26').date(),\n",
    "                    pd.Timestamp('2022-05-26').date(),\n",
    "                    adjustment='raw')\n",
    "print(len(bars))\n",
    "print(bars[0])\n",
    "print(bars[-1])"
   ]
  }
 ],
 "metadata": {
  "interpreter": {
   "hash": "49ca70ade8a043eedc2fa7c3eb273a40ed01921cba848e742feca07ac03925ac"
  },
  "kernelspec": {
   "display_name": "Python 3.8.10 ('venv': venv)",
   "language": "python",
   "name": "python3"
  },
  "language_info": {
   "codemirror_mode": {
    "name": "ipython",
    "version": 3
   },
   "file_extension": ".py",
   "mimetype": "text/x-python",
   "name": "python",
   "nbconvert_exporter": "python",
   "pygments_lexer": "ipython3",
   "version": "3.8.10"
  },
  "orig_nbformat": 4
 },
 "nbformat": 4,
 "nbformat_minor": 2
}
